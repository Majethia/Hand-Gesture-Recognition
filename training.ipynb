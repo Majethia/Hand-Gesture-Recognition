{
 "cells": [
  {
   "cell_type": "code",
   "execution_count": 28,
   "metadata": {},
   "outputs": [
    {
     "name": "stdout",
     "output_type": "stream",
     "text": [
      "<class 'pandas.core.frame.DataFrame'>\n",
      "RangeIndex: 12800 entries, 0 to 12799\n",
      "Data columns (total 43 columns):\n",
      " #   Column        Non-Null Count  Dtype  \n",
      "---  ------        --------------  -----  \n",
      " 0   wrist_x       12800 non-null  float64\n",
      " 1   wrist_y       12800 non-null  float64\n",
      " 2   thumb_cmc_x   12800 non-null  float64\n",
      " 3   thumb_cmc_y   12800 non-null  float64\n",
      " 4   thumb_mcp_x   12800 non-null  float64\n",
      " 5   thumb_mcp_y   12800 non-null  float64\n",
      " 6   thumb_ip_x    12800 non-null  float64\n",
      " 7   thumb_ip_y    12800 non-null  float64\n",
      " 8   thumb_tip_x   12800 non-null  float64\n",
      " 9   thumb_tip_y   12800 non-null  float64\n",
      " 10  index_mcp_x   12800 non-null  float64\n",
      " 11  index_mcp_y   12800 non-null  float64\n",
      " 12  index_pip_x   12800 non-null  float64\n",
      " 13  index_pip_y   12800 non-null  float64\n",
      " 14  index_dip_x   12800 non-null  float64\n",
      " 15  index_dip_y   12800 non-null  float64\n",
      " 16  index_tip_x   12800 non-null  float64\n",
      " 17  index_tip_y   12800 non-null  float64\n",
      " 18  middle_mcp_x  12800 non-null  float64\n",
      " 19  middle_mcp_y  12800 non-null  float64\n",
      " 20  middle_pip_x  12800 non-null  float64\n",
      " 21  middle_pip_y  12800 non-null  float64\n",
      " 22  middle_dip_x  12800 non-null  float64\n",
      " 23  middle_dip_y  12800 non-null  float64\n",
      " 24  middle_tip_x  12800 non-null  float64\n",
      " 25  middle_tip_y  12800 non-null  float64\n",
      " 26  ring_mcp_x    12800 non-null  float64\n",
      " 27  ring_mcp_y    12800 non-null  float64\n",
      " 28  ring_pip_x    12800 non-null  float64\n",
      " 29  ring_pip_y    12800 non-null  float64\n",
      " 30  ring_dip_x    12800 non-null  float64\n",
      " 31  ring_dip_y    12800 non-null  float64\n",
      " 32  ring_tip_x    12800 non-null  float64\n",
      " 33  ring_tip_y    12800 non-null  float64\n",
      " 34  pinky_mcp_x   12800 non-null  float64\n",
      " 35  pinky_mcp_y   12800 non-null  float64\n",
      " 36  pinky_pip_x   12800 non-null  float64\n",
      " 37  pinky_pip_y   12800 non-null  float64\n",
      " 38  pinky_dip_x   12800 non-null  float64\n",
      " 39  pinky_dip_y   12800 non-null  float64\n",
      " 40  pinky_tip_x   12800 non-null  float64\n",
      " 41  pinky_tip_y   12800 non-null  float64\n",
      " 42  gesture       12800 non-null  object \n",
      "dtypes: float64(42), object(1)\n",
      "memory usage: 4.2+ MB\n"
     ]
    }
   ],
   "source": [
    "import pandas as pd\n",
    "\n",
    "df = pd.read_csv(\"data1.csv\")\n",
    "df.info()"
   ]
  },
  {
   "cell_type": "code",
   "execution_count": 29,
   "metadata": {},
   "outputs": [
    {
     "data": {
      "text/html": [
       "<div>\n",
       "<style scoped>\n",
       "    .dataframe tbody tr th:only-of-type {\n",
       "        vertical-align: middle;\n",
       "    }\n",
       "\n",
       "    .dataframe tbody tr th {\n",
       "        vertical-align: top;\n",
       "    }\n",
       "\n",
       "    .dataframe thead th {\n",
       "        text-align: right;\n",
       "    }\n",
       "</style>\n",
       "<table border=\"1\" class=\"dataframe\">\n",
       "  <thead>\n",
       "    <tr style=\"text-align: right;\">\n",
       "      <th></th>\n",
       "      <th>wrist_x</th>\n",
       "      <th>wrist_y</th>\n",
       "      <th>thumb_cmc_x</th>\n",
       "      <th>thumb_cmc_y</th>\n",
       "      <th>thumb_mcp_x</th>\n",
       "      <th>thumb_mcp_y</th>\n",
       "      <th>thumb_ip_x</th>\n",
       "      <th>thumb_ip_y</th>\n",
       "      <th>thumb_tip_x</th>\n",
       "      <th>thumb_tip_y</th>\n",
       "      <th>...</th>\n",
       "      <th>ring_tip_y</th>\n",
       "      <th>pinky_mcp_x</th>\n",
       "      <th>pinky_mcp_y</th>\n",
       "      <th>pinky_pip_x</th>\n",
       "      <th>pinky_pip_y</th>\n",
       "      <th>pinky_dip_x</th>\n",
       "      <th>pinky_dip_y</th>\n",
       "      <th>pinky_tip_x</th>\n",
       "      <th>pinky_tip_y</th>\n",
       "      <th>gesture</th>\n",
       "    </tr>\n",
       "  </thead>\n",
       "  <tbody>\n",
       "    <tr>\n",
       "      <th>0</th>\n",
       "      <td>0.328922</td>\n",
       "      <td>0.703835</td>\n",
       "      <td>0.368066</td>\n",
       "      <td>0.671634</td>\n",
       "      <td>0.384807</td>\n",
       "      <td>0.613596</td>\n",
       "      <td>0.367972</td>\n",
       "      <td>0.574366</td>\n",
       "      <td>0.338013</td>\n",
       "      <td>0.541510</td>\n",
       "      <td>...</td>\n",
       "      <td>0.523626</td>\n",
       "      <td>0.283031</td>\n",
       "      <td>0.533253</td>\n",
       "      <td>0.272797</td>\n",
       "      <td>0.476843</td>\n",
       "      <td>0.275798</td>\n",
       "      <td>0.493530</td>\n",
       "      <td>0.282578</td>\n",
       "      <td>0.524769</td>\n",
       "      <td>d</td>\n",
       "    </tr>\n",
       "    <tr>\n",
       "      <th>1</th>\n",
       "      <td>0.327748</td>\n",
       "      <td>0.698838</td>\n",
       "      <td>0.364520</td>\n",
       "      <td>0.667051</td>\n",
       "      <td>0.381011</td>\n",
       "      <td>0.612907</td>\n",
       "      <td>0.364604</td>\n",
       "      <td>0.579119</td>\n",
       "      <td>0.333213</td>\n",
       "      <td>0.552148</td>\n",
       "      <td>...</td>\n",
       "      <td>0.531519</td>\n",
       "      <td>0.278880</td>\n",
       "      <td>0.533552</td>\n",
       "      <td>0.268599</td>\n",
       "      <td>0.481714</td>\n",
       "      <td>0.270423</td>\n",
       "      <td>0.498814</td>\n",
       "      <td>0.277150</td>\n",
       "      <td>0.528505</td>\n",
       "      <td>d</td>\n",
       "    </tr>\n",
       "    <tr>\n",
       "      <th>2</th>\n",
       "      <td>0.327151</td>\n",
       "      <td>0.702728</td>\n",
       "      <td>0.365096</td>\n",
       "      <td>0.670377</td>\n",
       "      <td>0.380703</td>\n",
       "      <td>0.615000</td>\n",
       "      <td>0.362721</td>\n",
       "      <td>0.580252</td>\n",
       "      <td>0.330550</td>\n",
       "      <td>0.552765</td>\n",
       "      <td>...</td>\n",
       "      <td>0.534262</td>\n",
       "      <td>0.278826</td>\n",
       "      <td>0.535217</td>\n",
       "      <td>0.268503</td>\n",
       "      <td>0.482563</td>\n",
       "      <td>0.270780</td>\n",
       "      <td>0.500658</td>\n",
       "      <td>0.277789</td>\n",
       "      <td>0.531845</td>\n",
       "      <td>d</td>\n",
       "    </tr>\n",
       "    <tr>\n",
       "      <th>3</th>\n",
       "      <td>0.326235</td>\n",
       "      <td>0.704751</td>\n",
       "      <td>0.363294</td>\n",
       "      <td>0.672216</td>\n",
       "      <td>0.380379</td>\n",
       "      <td>0.619703</td>\n",
       "      <td>0.363865</td>\n",
       "      <td>0.586301</td>\n",
       "      <td>0.331922</td>\n",
       "      <td>0.557597</td>\n",
       "      <td>...</td>\n",
       "      <td>0.535883</td>\n",
       "      <td>0.276765</td>\n",
       "      <td>0.538339</td>\n",
       "      <td>0.268087</td>\n",
       "      <td>0.484400</td>\n",
       "      <td>0.270684</td>\n",
       "      <td>0.504113</td>\n",
       "      <td>0.277011</td>\n",
       "      <td>0.535165</td>\n",
       "      <td>d</td>\n",
       "    </tr>\n",
       "    <tr>\n",
       "      <th>4</th>\n",
       "      <td>0.326394</td>\n",
       "      <td>0.706794</td>\n",
       "      <td>0.364664</td>\n",
       "      <td>0.672601</td>\n",
       "      <td>0.380789</td>\n",
       "      <td>0.616672</td>\n",
       "      <td>0.362717</td>\n",
       "      <td>0.581914</td>\n",
       "      <td>0.330229</td>\n",
       "      <td>0.556532</td>\n",
       "      <td>...</td>\n",
       "      <td>0.537488</td>\n",
       "      <td>0.276483</td>\n",
       "      <td>0.540432</td>\n",
       "      <td>0.265738</td>\n",
       "      <td>0.487483</td>\n",
       "      <td>0.268566</td>\n",
       "      <td>0.505483</td>\n",
       "      <td>0.275628</td>\n",
       "      <td>0.535661</td>\n",
       "      <td>d</td>\n",
       "    </tr>\n",
       "  </tbody>\n",
       "</table>\n",
       "<p>5 rows × 43 columns</p>\n",
       "</div>"
      ],
      "text/plain": [
       "    wrist_x   wrist_y  thumb_cmc_x  thumb_cmc_y  thumb_mcp_x  thumb_mcp_y  \\\n",
       "0  0.328922  0.703835     0.368066     0.671634     0.384807     0.613596   \n",
       "1  0.327748  0.698838     0.364520     0.667051     0.381011     0.612907   \n",
       "2  0.327151  0.702728     0.365096     0.670377     0.380703     0.615000   \n",
       "3  0.326235  0.704751     0.363294     0.672216     0.380379     0.619703   \n",
       "4  0.326394  0.706794     0.364664     0.672601     0.380789     0.616672   \n",
       "\n",
       "   thumb_ip_x  thumb_ip_y  thumb_tip_x  thumb_tip_y  ...  ring_tip_y  \\\n",
       "0    0.367972    0.574366     0.338013     0.541510  ...    0.523626   \n",
       "1    0.364604    0.579119     0.333213     0.552148  ...    0.531519   \n",
       "2    0.362721    0.580252     0.330550     0.552765  ...    0.534262   \n",
       "3    0.363865    0.586301     0.331922     0.557597  ...    0.535883   \n",
       "4    0.362717    0.581914     0.330229     0.556532  ...    0.537488   \n",
       "\n",
       "   pinky_mcp_x  pinky_mcp_y  pinky_pip_x  pinky_pip_y  pinky_dip_x  \\\n",
       "0     0.283031     0.533253     0.272797     0.476843     0.275798   \n",
       "1     0.278880     0.533552     0.268599     0.481714     0.270423   \n",
       "2     0.278826     0.535217     0.268503     0.482563     0.270780   \n",
       "3     0.276765     0.538339     0.268087     0.484400     0.270684   \n",
       "4     0.276483     0.540432     0.265738     0.487483     0.268566   \n",
       "\n",
       "   pinky_dip_y  pinky_tip_x  pinky_tip_y  gesture  \n",
       "0     0.493530     0.282578     0.524769        d  \n",
       "1     0.498814     0.277150     0.528505        d  \n",
       "2     0.500658     0.277789     0.531845        d  \n",
       "3     0.504113     0.277011     0.535165        d  \n",
       "4     0.505483     0.275628     0.535661        d  \n",
       "\n",
       "[5 rows x 43 columns]"
      ]
     },
     "execution_count": 29,
     "metadata": {},
     "output_type": "execute_result"
    }
   ],
   "source": [
    "df.head()"
   ]
  },
  {
   "cell_type": "code",
   "execution_count": 30,
   "metadata": {},
   "outputs": [],
   "source": [
    "from sklearn.model_selection import train_test_split\n",
    "\n",
    "X = df.iloc[:,:-1]\n",
    "y = df['gesture']\n",
    "X_train, X_test, y_train, y_test = train_test_split(X, y, test_size=0.2, random_state=42, stratify=y)"
   ]
  },
  {
   "cell_type": "code",
   "execution_count": 31,
   "metadata": {},
   "outputs": [
    {
     "data": {
      "text/plain": [
       "KNeighborsClassifier()"
      ]
     },
     "execution_count": 31,
     "metadata": {},
     "output_type": "execute_result"
    }
   ],
   "source": [
    "from sklearn.neighbors import KNeighborsClassifier\n",
    "\n",
    "neigh = KNeighborsClassifier(n_neighbors=5)\n",
    "\n",
    "neigh.fit(X_train,y_train)"
   ]
  },
  {
   "cell_type": "code",
   "execution_count": 32,
   "metadata": {},
   "outputs": [
    {
     "data": {
      "text/plain": [
       "0.99921875"
      ]
     },
     "execution_count": 32,
     "metadata": {},
     "output_type": "execute_result"
    }
   ],
   "source": [
    "neigh.score(X_test, y_test)"
   ]
  },
  {
   "cell_type": "code",
   "execution_count": 33,
   "metadata": {},
   "outputs": [],
   "source": [
    "import pickle\n",
    "\n",
    "with open(\"best.pickle\", \"wb\") as f:\n",
    "        pickle.dump(neigh, f)\n"
   ]
  },
  {
   "cell_type": "code",
   "execution_count": 34,
   "metadata": {},
   "outputs": [
    {
     "data": {
      "text/plain": [
       "1.0"
      ]
     },
     "execution_count": 34,
     "metadata": {},
     "output_type": "execute_result"
    }
   ],
   "source": [
    "from sklearn import svm\n",
    "clf = svm.SVC()\n",
    "clf.fit(X_train,y_train)\n",
    "\n",
    "clf.score(X_test, y_test)"
   ]
  },
  {
   "cell_type": "code",
   "execution_count": 35,
   "metadata": {},
   "outputs": [],
   "source": [
    "import pickle\n",
    "\n",
    "with open(\"best2.pickle\", \"wb\") as f:\n",
    "        pickle.dump(clf, f)"
   ]
  }
 ],
 "metadata": {
  "interpreter": {
   "hash": "11938c6bc6919ae2720b4d5011047913343b08a43b18698fd82dedb0d4417594"
  },
  "kernelspec": {
   "display_name": "Python 3.9.7 64-bit",
   "language": "python",
   "name": "python3"
  },
  "language_info": {
   "codemirror_mode": {
    "name": "ipython",
    "version": 3
   },
   "file_extension": ".py",
   "mimetype": "text/x-python",
   "name": "python",
   "nbconvert_exporter": "python",
   "pygments_lexer": "ipython3",
   "version": "3.9.7"
  },
  "orig_nbformat": 4
 },
 "nbformat": 4,
 "nbformat_minor": 2
}
